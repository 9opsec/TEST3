{
  "nbformat": 4,
  "nbformat_minor": 0,
  "metadata": {
    "colab": {
      "name": "Importing a python library from Drive.ipynb",
      "provenance": [],
      "collapsed_sections": [],
      "toc_visible": true,
      "include_colab_link": true
    },
    "kernelspec": {
      "name": "python3",
      "display_name": "Python 3"
    }
  },
  "cells": [
    {
      "cell_type": "markdown",
      "metadata": {
        "id": "view-in-github",
        "colab_type": "text"
      },
      "source": [
        "<a href=\"https://colab.research.google.com/github/9opsec/TEST3/blob/master/Importing_a_python_library_from_Drive.ipynb\" target=\"_parent\"><img src=\"https://colab.research.google.com/assets/colab-badge.svg\" alt=\"Open In Colab\"/></a>"
      ]
    },
    {
      "metadata": {
        "id": "KxwNIFyBCBC1"
      },
      "cell_type": "markdown",
      "source": [
        "First, you'll need to mount your Drive."
      ]
    },
    {
      "metadata": {
        "id": "prUMpfLaB-D7",
        "colab": {
          "base_uri": "https://localhost:8080/",
          "height": 122
        },
        "outputId": "2b2a8878-617f-4b44-c5b8-d999d0bc65ac"
      },
      "cell_type": "code",
      "source": [
        "from google.colab import drive\n",
        "drive.mount('/content/drive')"
      ],
      "execution_count": null,
      "outputs": [
        {
          "output_type": "stream",
          "text": [
            "Go to this URL in a browser: https://accounts.google.com/o/oauth2/auth?client_id=947318989803-6bn6qk8qdgf4n4g3pfee6491hc0brc4i.apps.googleusercontent.com&redirect_uri=urn%3Aietf%3Awg%3Aoauth%3A2.0%3Aoob&scope=email%20https%3A%2F%2Fwww.googleapis.com%2Fauth%2Fdocs.test%20https%3A%2F%2Fwww.googleapis.com%2Fauth%2Fdrive%20https%3A%2F%2Fwww.googleapis.com%2Fauth%2Fdrive.photos.readonly%20https%3A%2F%2Fwww.googleapis.com%2Fauth%2Fpeopleapi.readonly&response_type=code\n",
            "\n",
            "Enter your authorization code:\n",
            "··········\n",
            "Mounted at /content/drive\n"
          ],
          "name": "stdout"
        }
      ]
    },
    {
      "metadata": {
        "id": "22oDKbuICNxb"
      },
      "cell_type": "markdown",
      "source": [
        "Next, we'll change the working directory to point to our Drive root directory."
      ]
    },
    {
      "metadata": {
        "id": "NmFM3jH7CTUS",
        "colab": {
          "base_uri": "https://localhost:8080/",
          "height": 187
        },
        "outputId": "769abdee-199a-4cd6-de8e-53eb99b0d208"
      },
      "cell_type": "code",
      "source": [
        "%cd /content/drive/My\\ Drive\n",
        "\n",
        "# List files to make sure we're in the expected directory.\n",
        "# Your output will look different, showing your own Drive files here.\n",
        "!ls"
      ],
      "execution_count": null,
      "outputs": [
        {
          "output_type": "stream",
          "text": [
            "/content/drive/My Drive\n",
            "07_structured_data.ipynb\t   Sample Excel file.xlsx\n",
            "BigQuery recipes\t\t   script.ipynb\n",
            "Colab Notebooks\t\t\t   TFGan tutorial in Colab.txt\n",
            "Copy of nima colab.ipynb\t   to_upload (1).ipynb\n",
            "created.txt\t\t\t   to_upload (2).ipynb\n",
            "Exported DataFrame sheet.gsheet    to_upload (3).ipynb\n",
            "foo.txt\t\t\t\t   to_upload.ipynb\n",
            "Pickle + Drive FUSE example.ipynb  variables.pickle\n",
            "Sample Excel file.gsheet\n"
          ],
          "name": "stdout"
        }
      ]
    },
    {
      "metadata": {
        "id": "Cvz1E3LvCeC0"
      },
      "cell_type": "markdown",
      "source": [
        "Next, we'll save a Python module to be imported."
      ]
    },
    {
      "metadata": {
        "id": "ihg3LerzChGr",
        "colab": {
          "base_uri": "https://localhost:8080/",
          "height": 34
        },
        "outputId": "9ea185a8-f142-4a65-b099-c37bb0dd67ba"
      },
      "cell_type": "code",
      "source": [
        "%%writefile mylib.py\n",
        "\n",
        "def MyFunction():\n",
        "  print ('My imported function')"
      ],
      "execution_count": null,
      "outputs": [
        {
          "output_type": "stream",
          "text": [
            "Writing mylib.py\n"
          ],
          "name": "stdout"
        }
      ]
    },
    {
      "metadata": {
        "id": "uSOOYNBkCkD8",
        "colab": {
          "base_uri": "https://localhost:8080/",
          "height": 34
        },
        "outputId": "562a6b97-6253-415d-a0d3-bad32a69f2fa"
      },
      "cell_type": "code",
      "source": [
        "!ls -l mylib.py"
      ],
      "execution_count": null,
      "outputs": [
        {
          "output_type": "stream",
          "text": [
            "-rw------- 1 root root 51 Sep 23 20:06 mylib.py\n"
          ],
          "name": "stdout"
        }
      ]
    },
    {
      "metadata": {
        "id": "znI4KPyyCm8r"
      },
      "cell_type": "markdown",
      "source": [
        "Now we can import and use this library."
      ]
    },
    {
      "metadata": {
        "id": "X9_OYgn8Cots",
        "colab": {
          "base_uri": "https://localhost:8080/",
          "height": 34
        },
        "outputId": "08e75072-b58b-4174-b003-2540272d7fa8"
      },
      "cell_type": "code",
      "source": [
        "import mylib\n",
        "mylib.MyFunction()"
      ],
      "execution_count": null,
      "outputs": [
        {
          "output_type": "stream",
          "text": [
            "My imported function\n"
          ],
          "name": "stdout"
        }
      ]
    }
  ]
}